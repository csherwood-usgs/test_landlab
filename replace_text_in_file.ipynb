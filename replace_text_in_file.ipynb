{
 "cells": [
  {
   "cell_type": "code",
   "execution_count": 21,
   "metadata": {
    "collapsed": false
   },
   "outputs": [
    {
     "name": "stdout",
     "output_type": "stream",
     "text": [
      "100.0\n",
      "Test file in.\n",
      "# input water level: 100.000\n",
      "! all done\n"
     ]
    }
   ],
   "source": [
    "filein = \"testfile.txt\"\n",
    "fileout = \"outfile.txt\"\n",
    "f = open(filein,'r')\n",
    "filedata = f.read()\n",
    "f.close()\n",
    "\n",
    "water_level = \"{0:.3f}\".format(100)\n",
    "newdata = filedata.replace(\"WATER_LEVEL\",\"new data\")\n",
    "print \"{0}\".format(100.)\n",
    "print(filedata.format( WATER_LEVEL=water_level ))\n",
    "f = open(fileout,'w')\n",
    "f.write(filedata.format(WATER_LEVEL=\"99.9\"))\n",
    "f.close()"
   ]
  }
 ],
 "metadata": {
  "kernelspec": {
   "display_name": "Python 2",
   "language": "python",
   "name": "python2"
  },
  "language_info": {
   "codemirror_mode": {
    "name": "ipython",
    "version": 2
   },
   "file_extension": ".py",
   "mimetype": "text/x-python",
   "name": "python",
   "nbconvert_exporter": "python",
   "pygments_lexer": "ipython2",
   "version": "2.7.9"
  }
 },
 "nbformat": 4,
 "nbformat_minor": 0
}
